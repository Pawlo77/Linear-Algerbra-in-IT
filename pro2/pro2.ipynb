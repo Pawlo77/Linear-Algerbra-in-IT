{
 "cells": [
  {
   "attachments": {},
   "cell_type": "markdown",
   "metadata": {},
   "source": [
    "## Zadanie 5"
   ]
  },
  {
   "cell_type": "code",
   "execution_count": 1,
   "metadata": {},
   "outputs": [
    {
     "name": "stdout",
     "output_type": "stream",
     "text": [
      "0.5\n"
     ]
    }
   ],
   "source": [
    "from scipy.spatial.distance import hamming\n",
    "\n",
    "v1 = [1, 2, 0, 1]\n",
    "v2 = [0, 0, 0, 1]\n",
    "print(hamming(v1, v2))"
   ]
  },
  {
   "cell_type": "code",
   "execution_count": 2,
   "metadata": {},
   "outputs": [
    {
     "name": "stdout",
     "output_type": "stream",
     "text": [
      "[[1, 2, 1, 2, 0], [1, 1, 1, 1, 1]]\n"
     ]
    }
   ],
   "source": [
    "v = [\n",
    "    [1, 2, 1, 2, 0],\n",
    "    [1, 1, 1, 1, 1],\n",
    "    [0, 0, 2, 1, 1],\n",
    "    [2, 2, 2, 1, 0]\n",
    "]\n",
    "\n",
    "search_ = [None, None, float(\"inf\")]\n",
    "for v1 in v:\n",
    "    for v2 in v:\n",
    "        if v1 != v2 and hamming(v1, v2) < search_[-1]:\n",
    "            search_ = [v1, v2, hamming(v1, v2)]\n",
    "\n",
    "print(search_[:2])"
   ]
  },
  {
   "attachments": {},
   "cell_type": "markdown",
   "metadata": {},
   "source": [
    "## Zadanie 6"
   ]
  },
  {
   "cell_type": "code",
   "execution_count": 3,
   "metadata": {},
   "outputs": [],
   "source": [
    "import numpy as np\n",
    "\n",
    "np.random.seed(123)\n",
    "\n",
    "def generateAllVectors(B, k):\n",
    "    ready = False\n",
    "    multiplyers = np.zeros(len(B), dtype=np.uint8)\n",
    "    words = set()\n",
    "\n",
    "    while not ready:\n",
    "        words.add(tuple(multiplyers.dot(B) % k))\n",
    "\n",
    "        i = len(B) - 1\n",
    "        multiplyers[i] += 1\n",
    "        while not ready and multiplyers[i] == k:\n",
    "            multiplyers[i] = 0\n",
    "            multiplyers[i - 1] += 1\n",
    "            i -= 1\n",
    "\n",
    "            if i == -1:\n",
    "                ready = True\n",
    "    return sorted(words)"
   ]
  },
  {
   "cell_type": "code",
   "execution_count": 4,
   "metadata": {},
   "outputs": [],
   "source": [
    "B = np.array([\n",
    "    [1, 0, 0, 2, 4],\n",
    "    [0, 1, 0, 1, 0],\n",
    "    [0, 0, 1, 5, 6]\n",
    "], dtype=np.uint8)\n",
    "\n",
    "words = generateAllVectors(B, 7)"
   ]
  },
  {
   "cell_type": "code",
   "execution_count": 5,
   "metadata": {},
   "outputs": [
    {
     "name": "stdout",
     "output_type": "stream",
     "text": [
      "(0, 0, 0, 0, 0)\t(0, 0, 1, 5, 6)\t(0, 0, 2, 3, 5)\n",
      "(0, 0, 3, 1, 4)\t(0, 0, 4, 6, 3)\t(0, 0, 5, 4, 2)\n",
      "(0, 0, 6, 2, 1)\t(0, 1, 0, 1, 0)\t(0, 1, 1, 6, 6)\n",
      "(0, 1, 2, 4, 5)\t(0, 1, 3, 2, 4)\t(0, 1, 4, 0, 3)\n",
      "(0, 1, 5, 5, 2)\t(0, 1, 6, 3, 1)\t(0, 2, 0, 2, 0)\n",
      "(0, 2, 1, 0, 6)\t(0, 2, 2, 5, 5)\t(0, 2, 3, 3, 4)\n",
      "(0, 2, 4, 1, 3)\t(0, 2, 5, 6, 2)\t(0, 2, 6, 4, 1)\n",
      "(0, 3, 0, 3, 0)\t(0, 3, 1, 1, 6)\t(0, 3, 2, 6, 5)\n",
      "(0, 3, 3, 4, 4)\t(0, 3, 4, 2, 3)\t(0, 3, 5, 0, 2)\n",
      "(0, 3, 6, 5, 1)\t(0, 4, 0, 4, 0)\t(0, 4, 1, 2, 6)\n",
      "(0, 4, 2, 0, 5)\t(0, 4, 3, 5, 4)\t(0, 4, 4, 3, 3)\n",
      "(0, 4, 5, 1, 2)\t(0, 4, 6, 6, 1)\t(0, 5, 0, 5, 0)\n",
      "(0, 5, 1, 3, 6)\t(0, 5, 2, 1, 5)\t(0, 5, 3, 6, 4)\n",
      "(0, 5, 4, 4, 3)\t(0, 5, 5, 2, 2)\t(0, 5, 6, 0, 1)\n",
      "(0, 6, 0, 6, 0)\t(0, 6, 1, 4, 6)\t(0, 6, 2, 2, 5)\n",
      "(0, 6, 3, 0, 4)\t(0, 6, 4, 5, 3)\t(0, 6, 5, 3, 2)\n",
      "(0, 6, 6, 1, 1)\t(1, 0, 0, 2, 4)\t(1, 0, 1, 0, 3)\n",
      "(1, 0, 2, 5, 2)\t(1, 0, 3, 3, 1)\t(1, 0, 4, 1, 0)\n",
      "(1, 0, 5, 6, 6)\t(1, 0, 6, 4, 5)\t(1, 1, 0, 3, 4)\n",
      "(1, 1, 1, 1, 3)\t(1, 1, 2, 6, 2)\t(1, 1, 3, 4, 1)\n",
      "(1, 1, 4, 2, 0)\t(1, 1, 5, 0, 6)\t(1, 1, 6, 5, 5)\n",
      "(1, 2, 0, 4, 4)\t(1, 2, 1, 2, 3)\t(1, 2, 2, 0, 2)\n",
      "(1, 2, 3, 5, 1)\t(1, 2, 4, 3, 0)\t(1, 2, 5, 1, 6)\n",
      "(1, 2, 6, 6, 5)\t(1, 3, 0, 5, 4)\t(1, 3, 1, 3, 3)\n",
      "(1, 3, 2, 1, 2)\t(1, 3, 3, 6, 1)\t(1, 3, 4, 4, 0)\n",
      "(1, 3, 5, 2, 6)\t(1, 3, 6, 0, 5)\t(1, 4, 0, 6, 4)\n",
      "(1, 4, 1, 4, 3)\t(1, 4, 2, 2, 2)\t(1, 4, 3, 0, 1)\n",
      "(1, 4, 4, 5, 0)\t(1, 4, 5, 3, 6)\t(1, 4, 6, 1, 5)\n",
      "(1, 5, 0, 0, 4)\t(1, 5, 1, 5, 3)\t(1, 5, 2, 3, 2)\n",
      "(1, 5, 3, 1, 1)\t(1, 5, 4, 6, 0)\t(1, 5, 5, 4, 6)\n",
      "(1, 5, 6, 2, 5)\t(1, 6, 0, 1, 4)\t(1, 6, 1, 6, 3)\n",
      "(1, 6, 2, 4, 2)\t(1, 6, 3, 2, 1)\t(1, 6, 4, 0, 0)\n",
      "(1, 6, 5, 5, 6)\t(1, 6, 6, 3, 5)\t(2, 0, 0, 4, 1)\n",
      "(2, 0, 1, 2, 0)\t(2, 0, 2, 0, 6)\t(2, 0, 3, 5, 5)\n",
      "(2, 0, 4, 3, 4)\t(2, 0, 5, 1, 3)\t(2, 0, 6, 6, 2)\n",
      "(2, 1, 0, 5, 1)\t(2, 1, 1, 3, 0)\t(2, 1, 2, 1, 6)\n",
      "(2, 1, 3, 6, 5)\t(2, 1, 4, 4, 4)\t(2, 1, 5, 2, 3)\n",
      "(2, 1, 6, 0, 2)\t(2, 2, 0, 6, 1)\t(2, 2, 1, 4, 0)\n",
      "(2, 2, 2, 2, 6)\t(2, 2, 3, 0, 5)\t(2, 2, 4, 5, 4)\n",
      "(2, 2, 5, 3, 3)\t(2, 2, 6, 1, 2)\t(2, 3, 0, 0, 1)\n",
      "(2, 3, 1, 5, 0)\t(2, 3, 2, 3, 6)\t(2, 3, 3, 1, 5)\n",
      "(2, 3, 4, 6, 4)\t(2, 3, 5, 4, 3)\t(2, 3, 6, 2, 2)\n",
      "(2, 4, 0, 1, 1)\t(2, 4, 1, 6, 0)\t(2, 4, 2, 4, 6)\n",
      "(2, 4, 3, 2, 5)\t(2, 4, 4, 0, 4)\t(2, 4, 5, 5, 3)\n",
      "(2, 4, 6, 3, 2)\t(2, 5, 0, 2, 1)\t(2, 5, 1, 0, 0)\n",
      "(2, 5, 2, 5, 6)\t(2, 5, 3, 3, 5)\t(2, 5, 4, 1, 4)\n",
      "(2, 5, 5, 6, 3)\t(2, 5, 6, 4, 2)\t(2, 6, 0, 3, 1)\n",
      "(2, 6, 1, 1, 0)\t(2, 6, 2, 6, 6)\t(2, 6, 3, 4, 5)\n",
      "(2, 6, 4, 2, 4)\t(2, 6, 5, 0, 3)\t(2, 6, 6, 5, 2)\n",
      "(3, 0, 0, 6, 5)\t(3, 0, 1, 4, 4)\t(3, 0, 2, 2, 3)\n",
      "(3, 0, 3, 0, 2)\t(3, 0, 4, 5, 1)\t(3, 0, 5, 3, 0)\n",
      "(3, 0, 6, 1, 6)\t(3, 1, 0, 0, 5)\t(3, 1, 1, 5, 4)\n",
      "(3, 1, 2, 3, 3)\t(3, 1, 3, 1, 2)\t(3, 1, 4, 6, 1)\n",
      "(3, 1, 5, 4, 0)\t(3, 1, 6, 2, 6)\t(3, 2, 0, 1, 5)\n",
      "(3, 2, 1, 6, 4)\t(3, 2, 2, 4, 3)\t(3, 2, 3, 2, 2)\n",
      "(3, 2, 4, 0, 1)\t(3, 2, 5, 5, 0)\t(3, 2, 6, 3, 6)\n",
      "(3, 3, 0, 2, 5)\t(3, 3, 1, 0, 4)\t(3, 3, 2, 5, 3)\n",
      "(3, 3, 3, 3, 2)\t(3, 3, 4, 1, 1)\t(3, 3, 5, 6, 0)\n",
      "(3, 3, 6, 4, 6)\t(3, 4, 0, 3, 5)\t(3, 4, 1, 1, 4)\n",
      "(3, 4, 2, 6, 3)\t(3, 4, 3, 4, 2)\t(3, 4, 4, 2, 1)\n",
      "(3, 4, 5, 0, 0)\t(3, 4, 6, 5, 6)\t(3, 5, 0, 4, 5)\n",
      "(3, 5, 1, 2, 4)\t(3, 5, 2, 0, 3)\t(3, 5, 3, 5, 2)\n",
      "(3, 5, 4, 3, 1)\t(3, 5, 5, 1, 0)\t(3, 5, 6, 6, 6)\n",
      "(3, 6, 0, 5, 5)\t(3, 6, 1, 3, 4)\t(3, 6, 2, 1, 3)\n",
      "(3, 6, 3, 6, 2)\t(3, 6, 4, 4, 1)\t(3, 6, 5, 2, 0)\n",
      "(3, 6, 6, 0, 6)\t(4, 0, 0, 1, 2)\t(4, 0, 1, 6, 1)\n",
      "(4, 0, 2, 4, 0)\t(4, 0, 3, 2, 6)\t(4, 0, 4, 0, 5)\n",
      "(4, 0, 5, 5, 4)\t(4, 0, 6, 3, 3)\t(4, 1, 0, 2, 2)\n",
      "(4, 1, 1, 0, 1)\t(4, 1, 2, 5, 0)\t(4, 1, 3, 3, 6)\n",
      "(4, 1, 4, 1, 5)\t(4, 1, 5, 6, 4)\t(4, 1, 6, 4, 3)\n",
      "(4, 2, 0, 3, 2)\t(4, 2, 1, 1, 1)\t(4, 2, 2, 6, 0)\n",
      "(4, 2, 3, 4, 6)\t(4, 2, 4, 2, 5)\t(4, 2, 5, 0, 4)\n",
      "(4, 2, 6, 5, 3)\t(4, 3, 0, 4, 2)\t(4, 3, 1, 2, 1)\n",
      "(4, 3, 2, 0, 0)\t(4, 3, 3, 5, 6)\t(4, 3, 4, 3, 5)\n",
      "(4, 3, 5, 1, 4)\t(4, 3, 6, 6, 3)\t(4, 4, 0, 5, 2)\n",
      "(4, 4, 1, 3, 1)\t(4, 4, 2, 1, 0)\t(4, 4, 3, 6, 6)\n",
      "(4, 4, 4, 4, 5)\t(4, 4, 5, 2, 4)\t(4, 4, 6, 0, 3)\n",
      "(4, 5, 0, 6, 2)\t(4, 5, 1, 4, 1)\t(4, 5, 2, 2, 0)\n",
      "(4, 5, 3, 0, 6)\t(4, 5, 4, 5, 5)\t(4, 5, 5, 3, 4)\n",
      "(4, 5, 6, 1, 3)\t(4, 6, 0, 0, 2)\t(4, 6, 1, 5, 1)\n",
      "(4, 6, 2, 3, 0)\t(4, 6, 3, 1, 6)\t(4, 6, 4, 6, 5)\n",
      "(4, 6, 5, 4, 4)\t(4, 6, 6, 2, 3)\t(5, 0, 0, 3, 6)\n",
      "(5, 0, 1, 1, 5)\t(5, 0, 2, 6, 4)\t(5, 0, 3, 4, 3)\n",
      "(5, 0, 4, 2, 2)\t(5, 0, 5, 0, 1)\t(5, 0, 6, 5, 0)\n",
      "(5, 1, 0, 4, 6)\t(5, 1, 1, 2, 5)\t(5, 1, 2, 0, 4)\n",
      "(5, 1, 3, 5, 3)\t(5, 1, 4, 3, 2)\t(5, 1, 5, 1, 1)\n",
      "(5, 1, 6, 6, 0)\t(5, 2, 0, 5, 6)\t(5, 2, 1, 3, 5)\n",
      "(5, 2, 2, 1, 4)\t(5, 2, 3, 6, 3)\t(5, 2, 4, 4, 2)\n",
      "(5, 2, 5, 2, 1)\t(5, 2, 6, 0, 0)\t(5, 3, 0, 6, 6)\n",
      "(5, 3, 1, 4, 5)\t(5, 3, 2, 2, 4)\t(5, 3, 3, 0, 3)\n",
      "(5, 3, 4, 5, 2)\t(5, 3, 5, 3, 1)\t(5, 3, 6, 1, 0)\n",
      "(5, 4, 0, 0, 6)\t(5, 4, 1, 5, 5)\t(5, 4, 2, 3, 4)\n",
      "(5, 4, 3, 1, 3)\t(5, 4, 4, 6, 2)\t(5, 4, 5, 4, 1)\n",
      "(5, 4, 6, 2, 0)\t(5, 5, 0, 1, 6)\t(5, 5, 1, 6, 5)\n",
      "(5, 5, 2, 4, 4)\t(5, 5, 3, 2, 3)\t(5, 5, 4, 0, 2)\n",
      "(5, 5, 5, 5, 1)\t(5, 5, 6, 3, 0)\t(5, 6, 0, 2, 6)\n",
      "(5, 6, 1, 0, 5)\t(5, 6, 2, 5, 4)\t(5, 6, 3, 3, 3)\n",
      "(5, 6, 4, 1, 2)\t(5, 6, 5, 6, 1)\t(5, 6, 6, 4, 0)\n",
      "(6, 0, 0, 5, 3)\t(6, 0, 1, 3, 2)\t(6, 0, 2, 1, 1)\n",
      "(6, 0, 3, 6, 0)\t(6, 0, 4, 4, 6)\t(6, 0, 5, 2, 5)\n",
      "(6, 0, 6, 0, 4)\t(6, 1, 0, 6, 3)\t(6, 1, 1, 4, 2)\n",
      "(6, 1, 2, 2, 1)\t(6, 1, 3, 0, 0)\t(6, 1, 4, 5, 6)\n",
      "(6, 1, 5, 3, 5)\t(6, 1, 6, 1, 4)\t(6, 2, 0, 0, 3)\n",
      "(6, 2, 1, 5, 2)\t(6, 2, 2, 3, 1)\t(6, 2, 3, 1, 0)\n",
      "(6, 2, 4, 6, 6)\t(6, 2, 5, 4, 5)\t(6, 2, 6, 2, 4)\n",
      "(6, 3, 0, 1, 3)\t(6, 3, 1, 6, 2)\t(6, 3, 2, 4, 1)\n",
      "(6, 3, 3, 2, 0)\t(6, 3, 4, 0, 6)\t(6, 3, 5, 5, 5)\n",
      "(6, 3, 6, 3, 4)\t(6, 4, 0, 2, 3)\t(6, 4, 1, 0, 2)\n",
      "(6, 4, 2, 5, 1)\t(6, 4, 3, 3, 0)\t(6, 4, 4, 1, 6)\n",
      "(6, 4, 5, 6, 5)\t(6, 4, 6, 4, 4)\t(6, 5, 0, 3, 3)\n",
      "(6, 5, 1, 1, 2)\t(6, 5, 2, 6, 1)\t(6, 5, 3, 4, 0)\n",
      "(6, 5, 4, 2, 6)\t(6, 5, 5, 0, 5)\t(6, 5, 6, 5, 4)\n",
      "(6, 6, 0, 4, 3)\t(6, 6, 1, 2, 2)\t(6, 6, 2, 0, 1)\n",
      "(6, 6, 3, 5, 0)\t(6, 6, 4, 3, 6)\t(6, 6, 5, 1, 5)\n",
      "(6, 6, 6, 6, 4)\n"
     ]
    }
   ],
   "source": [
    "# dla przejzystosci po 3 w jednej kolumnie\n",
    "\n",
    "line = []\n",
    "for word in words:\n",
    "    if len(line) == 3:\n",
    "        print(\"\\t\".join(line))\n",
    "        line = []\n",
    "    line.append(str(word))\n",
    "print(\"\\t\".join(line))        "
   ]
  },
  {
   "attachments": {},
   "cell_type": "markdown",
   "metadata": {},
   "source": [
    "## Zadanie 7"
   ]
  },
  {
   "cell_type": "code",
   "execution_count": 6,
   "metadata": {},
   "outputs": [],
   "source": [
    "C = np.array(words, dtype=np.uint8)"
   ]
  },
  {
   "cell_type": "code",
   "execution_count": 7,
   "metadata": {},
   "outputs": [],
   "source": [
    "def minimizeHammingDistance(C, B, v):\n",
    "    dst = np.array([hamming(w, v) for w in C], dtype=np.float64)\n",
    "    m = np.min(dst)\n",
    "    L = C[np.where(dst == m)]\n",
    "    w = L[np.random.randint(0, len(L))]\n",
    "    \n",
    "    # korzystajac ze znamy z gory B dla zadania 7\n",
    "    return [w[0], w[1], w[2]]"
   ]
  },
  {
   "cell_type": "code",
   "execution_count": 8,
   "metadata": {},
   "outputs": [
    {
     "data": {
      "text/plain": [
       "[1, 2, 0]"
      ]
     },
     "execution_count": 8,
     "metadata": {},
     "output_type": "execute_result"
    }
   ],
   "source": [
    "minimizeHammingDistance(C, B, [1, 2, 3, 4, 5])"
   ]
  },
  {
   "attachments": {},
   "cell_type": "markdown",
   "metadata": {},
   "source": [
    "## Zadanie 8"
   ]
  },
  {
   "attachments": {},
   "cell_type": "markdown",
   "metadata": {},
   "source": [
    "a)"
   ]
  },
  {
   "cell_type": "code",
   "execution_count": 9,
   "metadata": {},
   "outputs": [],
   "source": [
    "M = np.random.randint(5, size=(4, 10))"
   ]
  },
  {
   "attachments": {},
   "cell_type": "markdown",
   "metadata": {},
   "source": [
    "b)"
   ]
  },
  {
   "cell_type": "code",
   "execution_count": 10,
   "metadata": {},
   "outputs": [
    {
     "data": {
      "image/png": "[encoded data removed]",
      "text/plain": [
       "<Figure size 640x480 with 2 Axes>"
      ]
     },
     "metadata": {},
     "output_type": "display_data"
    }
   ],
   "source": [
    "import matplotlib.pyplot as plt\n",
    "import seaborn as sns\n",
    "\n",
    "M_norm = M / 4.\n",
    "sns.heatmap(M_norm, cmap=\"binary\", square=True)\n",
    "plt.axis(\"off\")\n",
    "plt.show()"
   ]
  },
  {
   "attachments": {},
   "cell_type": "markdown",
   "metadata": {},
   "source": [
    "c)\n",
    "\n",
    "Tu nic nie trzeba robić, na podstawie pierwszysch 4 pozycji w kazdym wektorze od razu widać, ze są one liniowo niezalezne, a zatem G.T (wektory z G) jest bazą 4 wymiarowej podprzestrzeni przestrzeni 11 wymiarowej nad ciałem Z_5. A zatem jest macierzą generującą kodu (11, 4) liniowego nad tym ciałem. "
   ]
  },
  {
   "cell_type": "code",
   "execution_count": 11,
   "metadata": {},
   "outputs": [],
   "source": [
    "G = np.array([\n",
    "    [1, 0, 0, 0, 0, 4, 4, 2, 0, 1, 1],\n",
    "    [0, 1, 0, 0, 0, 3, 0, 2, 2, 1, 0],\n",
    "    [0, 0, 1, 0, 0, 2, 0, 1, 1, 1, 1],\n",
    "    [0, 0, 0, 1, 1, 0, 0, 0, 4, 3, 0]\n",
    "], dtype=np.uint8)"
   ]
  },
  {
   "attachments": {},
   "cell_type": "markdown",
   "metadata": {},
   "source": [
    "d)"
   ]
  },
  {
   "cell_type": "code",
   "execution_count": 12,
   "metadata": {},
   "outputs": [],
   "source": [
    "# to % 5 nie ma pozniej znaczenia, ale dzialamy w z5 wiec niech bedzie\n",
    "\n",
    "M_coded = np.array([\n",
    "    (w.T.dot(G)).T % 5 for w in M.T\n",
    "])"
   ]
  },
  {
   "cell_type": "code",
   "execution_count": 13,
   "metadata": {},
   "outputs": [
    {
     "name": "stdout",
     "output_type": "stream",
     "text": [
      "[4 1 3 4]  - zakodowany to:  [4 1 3 4 4 0 1 3 1 0 2]\n"
     ]
    }
   ],
   "source": [
    "print(M.T[0], \" - zakodowany to: \", M_coded[0])"
   ]
  },
  {
   "attachments": {},
   "cell_type": "markdown",
   "metadata": {},
   "source": [
    "e)"
   ]
  },
  {
   "cell_type": "code",
   "execution_count": 14,
   "metadata": {},
   "outputs": [],
   "source": [
    "probabilities_mask = np.random.random(size=M_coded.shape)\n",
    "channel_mask = np.vectorize(lambda x: 0 if x < 0.95 else 3)(probabilities_mask)\n",
    "M_send = M_coded + channel_mask"
   ]
  },
  {
   "attachments": {},
   "cell_type": "markdown",
   "metadata": {},
   "source": [
    "f)"
   ]
  },
  {
   "cell_type": "code",
   "execution_count": 15,
   "metadata": {},
   "outputs": [],
   "source": [
    "def minimizeHammingDistance(C, B, v):\n",
    "    dst = np.array([hamming(w, v) for w in C], dtype=np.float64)\n",
    "    m = np.min(dst)\n",
    "    L = C[np.where(dst == m)]\n",
    "    w = L[np.random.randint(0, len(L))]\n",
    "\n",
    "    # korzystajac ze znamy z gory B dla zadania 8\n",
    "    return [w[0], w[1], w[2], w[3]]"
   ]
  },
  {
   "cell_type": "code",
   "execution_count": 16,
   "metadata": {},
   "outputs": [],
   "source": [
    "C = np.array(generateAllVectors(G, 5), dtype=np.uint8)\n",
    "\n",
    "M_encoded = np.array([minimizeHammingDistance(C, G, v) for v in M_send]).T"
   ]
  },
  {
   "attachments": {},
   "cell_type": "markdown",
   "metadata": {},
   "source": [
    "h)"
   ]
  },
  {
   "cell_type": "code",
   "execution_count": 17,
   "metadata": {},
   "outputs": [
    {
     "data": {
      "text/plain": [
       "10"
      ]
     },
     "execution_count": 17,
     "metadata": {},
     "output_type": "execute_result"
    }
   ],
   "source": [
    "np.sum(np.all(M_encoded == M, axis=0))"
   ]
  },
  {
   "cell_type": "code",
   "execution_count": 18,
   "metadata": {},
   "outputs": [
    {
     "data": {
      "text/plain": [
       "True"
      ]
     },
     "execution_count": 18,
     "metadata": {},
     "output_type": "execute_result"
    }
   ],
   "source": [
    "# zatem wszystkie - na potwierdzenie:\n",
    "np.all(M_encoded == M)"
   ]
  },
  {
   "attachments": {},
   "cell_type": "markdown",
   "metadata": {},
   "source": [
    "i)"
   ]
  },
  {
   "cell_type": "code",
   "execution_count": 19,
   "metadata": {},
   "outputs": [
    {
     "data": {
      "image/png": "[encoded data removed]",
      "text/plain": [
       "<Figure size 640x480 with 2 Axes>"
      ]
     },
     "metadata": {},
     "output_type": "display_data"
    }
   ],
   "source": [
    "M_encoded_norm = M_encoded / 4.\n",
    "\n",
    "sns.heatmap(M_encoded_norm, cmap=\"binary\", square=True)\n",
    "plt.axis(\"off\")\n",
    "plt.show()"
   ]
  }
 ],
 "metadata": {
  "kernelspec": {
   "display_name": "cv",
   "language": "python",
   "name": "python3"
  },
  "language_info": {
   "codemirror_mode": {
    "name": "ipython",
    "version": 3
   },
   "file_extension": ".py",
   "mimetype": "text/x-python",
   "name": "python",
   "nbconvert_exporter": "python",
   "pygments_lexer": "ipython3",
   "version": "3.11.3"
  },
  "orig_nbformat": 4
 },
 "nbformat": 4,
 "nbformat_minor": 2
}
